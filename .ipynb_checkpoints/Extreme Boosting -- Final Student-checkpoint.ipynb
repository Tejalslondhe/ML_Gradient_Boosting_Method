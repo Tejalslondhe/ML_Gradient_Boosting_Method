{
 "cells": [
  {
   "cell_type": "code",
   "execution_count": 2,
   "metadata": {},
   "outputs": [
    {
     "name": "stdout",
     "output_type": "stream",
     "text": [
      "Collecting xgboost\n",
      "  Downloading xgboost-1.6.1-py3-none-win_amd64.whl (125.4 MB)\n",
      "Requirement already satisfied: numpy in c:\\users\\shalaka r shirsath\\anaconda3\\lib\\site-packages (from xgboost) (1.20.3)\n",
      "Requirement already satisfied: scipy in c:\\users\\shalaka r shirsath\\anaconda3\\lib\\site-packages (from xgboost) (1.7.1)\n",
      "Installing collected packages: xgboost\n",
      "Successfully installed xgboost-1.6.1\n"
     ]
    }
   ],
   "source": [
    "!pip install xgboost"
   ]
  },
  {
   "cell_type": "code",
   "execution_count": 3,
   "metadata": {
    "executionInfo": {
     "elapsed": 1728,
     "status": "ok",
     "timestamp": 1656654369581,
     "user": {
      "displayName": "priyanka Kurane",
      "userId": "02307053699086137925"
     },
     "user_tz": -330
    },
    "id": "xIJpCFXZSUMd"
   },
   "outputs": [],
   "source": [
    "%matplotlib inline  \n",
    "# To make data visualisations display in Jupyter Notebooks \n",
    "import numpy as np   # linear algebra\n",
    "import pandas as pd  # Data processing, Input & Output load\n",
    "import matplotlib.pyplot as plt # Visuvalization & plotting\n",
    "import seaborn as sns\n",
    "import datetime  \n",
    "\n",
    "import xgboost as xgb\n",
    "from sklearn.ensemble import AdaBoostClassifier  #Ada algorithm\n",
    "\n",
    "from sklearn.ensemble import GradientBoostingClassifier  #GBM algorithm\n",
    "from xgboost.sklearn import XGBClassifier # Extrame GB\n",
    "from xgboost import plot_importance ## Plotting Importance Variables \n",
    "from sklearn.model_selection import train_test_split, cross_val_score, GridSearchCV\n",
    "                                    # GridSearchCV - Implements a “fit” and a “score” method\n",
    "                                    # train_test_split - Split arrays or matrices into random train and test subsets\n",
    "                                    # cross_val_score - Evaluate a score by cross-validation\n",
    "from sklearn.ensemble import RandomForestClassifier\n",
    "from sklearn.metrics import f1_score, roc_auc_score, recall_score, precision_score, make_scorer, accuracy_score, roc_curve, confusion_matrix, classification_report\n",
    "                                    # Differnt metrics to evaluate the model \n",
    "#import pandas_profiling as pp   # simple and fast exploratory data analysis of a Pandas Datafram\n",
    "\n",
    "import warnings   # To avoid warning messages in the code run\n",
    "warnings.filterwarnings(\"ignore\")\n",
    "from sklearn.preprocessing import LabelEncoder # Labeling the columns with 0 & 1"
   ]
  },
  {
   "cell_type": "code",
   "execution_count": null,
   "metadata": {
    "colab": {
     "base_uri": "https://localhost:8080/",
     "height": 328
    },
    "executionInfo": {
     "elapsed": 18,
     "status": "error",
     "timestamp": 1656654466327,
     "user": {
      "displayName": "priyanka Kurane",
      "userId": "02307053699086137925"
     },
     "user_tz": -330
    },
    "id": "oiIYzGy1SUMh",
    "outputId": "c643b8e9-fce4-4be8-fd42-e4e140da48b3"
   },
   "outputs": [],
   "source": [
    "Tdata = pd.read_csv(r\"churn.csv\")\n",
    "Tdata.head()"
   ]
  },
  {
   "cell_type": "code",
   "execution_count": null,
   "metadata": {
    "id": "qifJt_teSUMi",
    "outputId": "4195b06f-bca8-4ad7-bcf7-0f7d2eef3220"
   },
   "outputs": [],
   "source": [
    "print (\"Rows     : \" ,Tdata.shape[0])\n",
    "print (\"Columns  : \" ,Tdata.shape[1])\n"
   ]
  },
  {
   "cell_type": "code",
   "execution_count": null,
   "metadata": {
    "id": "fwx90pA_SUMi"
   },
   "outputs": [],
   "source": [
    "def df_summary(df):\n",
    "    df_U = df.nunique()\n",
    "    df_M = df.isnull().sum()   # compute missing value and do sum \n",
    "    df_I = df.dtypes    # data infto \n",
    "    df_U = df_U.to_frame().reset_index()\n",
    "    df_M = df_M.to_frame().reset_index()\n",
    "    df_I = df_I.to_frame().reset_index()\n",
    "    df_U = df_U.rename(columns= {0: 'Unique Data'})\n",
    "    df_M = df_M.rename(columns= {0: 'Missing Data'})\n",
    "    df_I = df_I.rename(columns= {0: 'Data Types'})\n",
    "    output = pd.merge(pd.merge(df_M,df_U,on='index'),df_I,on='index')\n",
    "    return output;"
   ]
  },
  {
   "cell_type": "code",
   "execution_count": null,
   "metadata": {
    "id": "pu_jIiBOSUMj",
    "outputId": "374c9582-db4a-498c-aa78-16f63816b5dd"
   },
   "outputs": [],
   "source": [
    "df_summary(Tdata)"
   ]
  },
  {
   "cell_type": "code",
   "execution_count": null,
   "metadata": {
    "id": "3KHf54owSUMj",
    "outputId": "6dc82e05-5c5c-4d68-ba67-fb12d1697fba"
   },
   "outputs": [],
   "source": [
    "Tdata.TotalCharges.head()"
   ]
  },
  {
   "cell_type": "markdown",
   "metadata": {
    "id": "yNPWPramSUMk"
   },
   "source": [
    "*  Seems the variables is wrongly classified as object data type .\n",
    "* We will convert into Numerical"
   ]
  },
  {
   "cell_type": "code",
   "execution_count": null,
   "metadata": {
    "id": "-_nB0gJfSUMm",
    "outputId": "30e5f78c-6f6f-4425-f3c3-f12d8c2419c5"
   },
   "outputs": [],
   "source": [
    "Tdata.TotalCharges= pd.to_numeric(Tdata.TotalCharges, errors='coerce')\n",
    "Tdata.TotalCharges.describe()"
   ]
  },
  {
   "cell_type": "code",
   "execution_count": null,
   "metadata": {
    "id": "gzit6u0xSUMm",
    "outputId": "9002500b-7010-4b05-fdcd-f54c425dd0cf"
   },
   "outputs": [],
   "source": [
    "df_summary(Tdata)"
   ]
  },
  {
   "cell_type": "code",
   "execution_count": null,
   "metadata": {
    "id": "_aInfjClSUMn",
    "outputId": "24d168a6-9ba4-4a69-f656-516e74d14c4c"
   },
   "outputs": [],
   "source": [
    "Tdata['TotalCharges'].fillna((Tdata['TotalCharges'].mean()), inplace=True)\n",
    "Tdata['TotalCharges'].isnull().sum()"
   ]
  },
  {
   "cell_type": "markdown",
   "metadata": {
    "id": "w28SUkrfSUMn"
   },
   "source": [
    "* As we dicussed above we will drop the customer id column since it will not give much information for prediciton"
   ]
  },
  {
   "cell_type": "code",
   "execution_count": null,
   "metadata": {
    "id": "fkCvtnPkSUMo",
    "outputId": "f7210b93-d174-452c-cafa-b315e789cbe8"
   },
   "outputs": [],
   "source": [
    "Tdata.drop('customerID',axis=1, inplace=True)\n",
    "Tdata.columns"
   ]
  },
  {
   "cell_type": "markdown",
   "metadata": {
    "id": "eeFejXoqSUMo"
   },
   "source": [
    "# Lets seprate Numerical columns and object columns seperatly"
   ]
  },
  {
   "cell_type": "code",
   "execution_count": null,
   "metadata": {
    "id": "FY-_dfhHSUMo",
    "outputId": "4a3c41ba-eb50-4a1d-9187-308381fb8e1e"
   },
   "outputs": [],
   "source": [
    "Num_cols = Tdata.select_dtypes(include=['float64','int64']).columns.tolist()\n",
    "Cat_cols = Tdata.select_dtypes(include=['object']).columns.tolist()\n",
    "print(\"Number columns : \",Num_cols , \"Catogarical columns :\" ,Cat_cols,sep=\"\\n\")"
   ]
  },
  {
   "cell_type": "code",
   "execution_count": null,
   "metadata": {
    "id": "Z-LXhanQSUMr",
    "outputId": "7f16d3ac-6123-4d3e-8144-bfb40e6c99a5"
   },
   "outputs": [],
   "source": [
    "Binary_class = Tdata[Cat_cols].nunique()[Tdata[Cat_cols].nunique() == 2].keys().tolist()\n",
    "Multi_class =  Tdata[Cat_cols].nunique()[Tdata[Cat_cols].nunique() > 2].keys().tolist()\n",
    "print(Binary_class)\n",
    "print(Multi_class)"
   ]
  },
  {
   "cell_type": "markdown",
   "metadata": {
    "id": "gqQYnsC7SUMr"
   },
   "source": [
    "# Tranforming the data"
   ]
  },
  {
   "cell_type": "code",
   "execution_count": null,
   "metadata": {
    "id": "0eFaESM1SUMs"
   },
   "outputs": [],
   "source": [
    "#Label encoding Binary columns\n",
    "le = LabelEncoder()\n",
    "for i in Binary_class :\n",
    "    Tdata[i] = le.fit_transform(Tdata[i])"
   ]
  },
  {
   "cell_type": "code",
   "execution_count": null,
   "metadata": {
    "id": "zDLRVh-dSUMs",
    "outputId": "fa002054-2466-4dde-80bc-8450cdf4f8e7"
   },
   "outputs": [],
   "source": [
    "Tdata[Binary_class].shape"
   ]
  },
  {
   "cell_type": "code",
   "execution_count": null,
   "metadata": {
    "id": "IifyqUv2SUMs",
    "outputId": "c371c8c7-5fb4-43f8-a8f0-2a732593e962"
   },
   "outputs": [],
   "source": [
    "# Split multi class catergory columns as dummies  \n",
    "Tdata_Dummy = pd.get_dummies(Tdata[Multi_class])\n",
    "Tdata_Dummy.head()"
   ]
  },
  {
   "cell_type": "code",
   "execution_count": null,
   "metadata": {
    "id": "oDAavNvOSUMs",
    "outputId": "d9348b44-b785-45d4-849c-ded076782b43",
    "scrolled": true
   },
   "outputs": [],
   "source": [
    "New_df = pd.concat([Tdata[Num_cols],Tdata[Binary_class],Tdata_Dummy], axis=1)\n",
    "New_df.shape"
   ]
  },
  {
   "cell_type": "code",
   "execution_count": null,
   "metadata": {
    "id": "3_cuNsNLSUMt",
    "outputId": "fb2b0029-5821-4e89-d04f-c614092afdde"
   },
   "outputs": [],
   "source": [
    "import plotly.express as px\n",
    "\n",
    "fig = px.pie(New_df,names='Churn',color='Churn',\n",
    "             color_discrete_map={'Yes':'red',\n",
    "                                 'No':'green'})\n",
    "fig.show()"
   ]
  },
  {
   "cell_type": "markdown",
   "metadata": {
    "id": "P3ZEAcT2SUMt"
   },
   "source": [
    "# Data Partition"
   ]
  },
  {
   "cell_type": "code",
   "execution_count": null,
   "metadata": {
    "id": "SkGSE5mmSUMt"
   },
   "outputs": [],
   "source": [
    "X = New_df.drop('Churn',axis=1)\n",
    "y = New_df[[\"Churn\"]]\n",
    "\n",
    "x_train, x_test, y_train, y_test = train_test_split(X, y, test_size=0.2,random_state =1)"
   ]
  },
  {
   "cell_type": "code",
   "execution_count": null,
   "metadata": {
    "id": "9ZZJn9xmSUMt",
    "outputId": "7e096565-ae79-4d9c-e02c-818e0d463cbe"
   },
   "outputs": [],
   "source": [
    "print('The number of samples into the Train data is {}.'.format(x_train.shape[0]))\n",
    "print('The number of samples into the test data is {}.'.format(x_test.shape[0]))"
   ]
  },
  {
   "cell_type": "markdown",
   "metadata": {
    "id": "JnnaSrnXSUMu"
   },
   "source": [
    "# Model 3 - XGBOOST"
   ]
  },
  {
   "cell_type": "code",
   "execution_count": null,
   "metadata": {
    "id": "BNKsLIeRSUMu"
   },
   "outputs": [],
   "source": [
    "# Define Model parameters to tune\n",
    "model_parameters = { \n",
    "        'n_estimators':[50, 100, 200, 500],  # number of trees\n",
    "        'max_depth': [3, 5, 10],                 # maximum number of branches in each tree \n",
    "        'min_samples_leaf': [10,5,15]            # minimum number of Sample in each child node or leaf \n",
    "                  }"
   ]
  },
  {
   "cell_type": "code",
   "execution_count": null,
   "metadata": {
    "id": "6klfgCbhSUMu",
    "outputId": "5b837da8-3973-4482-888a-1c71ff3b50ad"
   },
   "outputs": [],
   "source": [
    "# Gridsearch the parameters to find the best parameters. Using L2 penalty\n",
    "model = XGBClassifier(reg_lambda=0)   # Lamda = 0 \n",
    "gscv = GridSearchCV(estimator=model, \n",
    "                    param_grid=model_parameters, \n",
    "                    cv=5, \n",
    "                    verbose=1, \n",
    "                    n_jobs=-1,\n",
    "                    scoring='accuracy')\n",
    "\n",
    "gscv.fit(x_train, y_train)  ## Model building"
   ]
  },
  {
   "cell_type": "code",
   "execution_count": null,
   "metadata": {
    "id": "SeqcC0A5SUMu",
    "outputId": "513abc5f-cef9-42fd-c711-e8b78559d91c"
   },
   "outputs": [],
   "source": [
    "print('The best parameter are -', gscv.best_params_)"
   ]
  },
  {
   "cell_type": "code",
   "execution_count": null,
   "metadata": {
    "id": "ZDyq3iLDSUMu",
    "outputId": "ce1b8af4-a751-461e-9022-7ae689ab77a6"
   },
   "outputs": [],
   "source": [
    "# Re-fit the model with the best parameters\n",
    "final_mod = XGBClassifier(**gscv.best_params_)\n",
    "final_mod.fit(x_train, y_train)"
   ]
  },
  {
   "cell_type": "markdown",
   "metadata": {
    "id": "Fe7CW2kKSUMu"
   },
   "source": [
    "# Prediction"
   ]
  },
  {
   "cell_type": "code",
   "execution_count": null,
   "metadata": {
    "id": "-i6ZSCzySUMu"
   },
   "outputs": [],
   "source": [
    "# Prediction\n",
    "train_pred = final_mod.predict(x_train)\n",
    "test_pred = final_mod.predict(x_test)"
   ]
  },
  {
   "cell_type": "code",
   "execution_count": null,
   "metadata": {
    "id": "to3ODGgbSUMv",
    "outputId": "a90557ef-e528-436c-abb7-f419fe218b9a"
   },
   "outputs": [],
   "source": [
    "train=pd.concat([y_train,x_train],axis=1)\n",
    "train['Predicted']=final_mod.predict(x_train)  # MODEL = dt\n",
    "train.head()"
   ]
  },
  {
   "cell_type": "markdown",
   "metadata": {
    "id": "5WyEqRPrSUMv"
   },
   "source": [
    "# Tree Plot"
   ]
  },
  {
   "cell_type": "code",
   "execution_count": null,
   "metadata": {
    "id": "mUjssCdNSUMv"
   },
   "outputs": [],
   "source": [
    "node_params = {'shape':'box',\n",
    "               'style':'filled,rounded',\n",
    "                'fillcolor' :'#78cbec'}\n",
    "leaf_params = {'shape':'box',\n",
    "               'style':'filled',\n",
    "                'fillcolor' :'#e48038'}"
   ]
  },
  {
   "cell_type": "code",
   "execution_count": null,
   "metadata": {
    "id": "uT8TMwq1SUMv",
    "outputId": "7fd50acf-ea58-454c-f7f6-6ee286da8f31"
   },
   "outputs": [],
   "source": [
    "xgb.to_graphviz(final_mod,num_trees=0,size=\"5,5\",\n",
    "               condition_node_params=node_params,\n",
    "               leaf_node_params=leaf_params)"
   ]
  },
  {
   "cell_type": "markdown",
   "metadata": {
    "id": "_WzLfFlpSUMv"
   },
   "source": [
    "# Confusion Matrix Train Data (Model 3)"
   ]
  },
  {
   "cell_type": "code",
   "execution_count": null,
   "metadata": {
    "id": "P-3mMX-cSUMv",
    "outputId": "d498a099-50d4-42f1-bd29-286d1809efe6"
   },
   "outputs": [],
   "source": [
    "from sklearn.metrics import confusion_matrix\n",
    "confusion_matrix = confusion_matrix(y_train,train_pred)\n",
    "print(confusion_matrix)"
   ]
  },
  {
   "cell_type": "code",
   "execution_count": null,
   "metadata": {
    "id": "u4wFCaZxSUMw",
    "outputId": "32e84b4d-2cde-49bb-d777-13c6d0f611c4"
   },
   "outputs": [],
   "source": [
    "Accuracy_test=((3774+773)/(5634)*100)\n",
    "Accuracy_test"
   ]
  },
  {
   "cell_type": "markdown",
   "metadata": {
    "id": "VDV_vrZkSUMw"
   },
   "source": [
    "# Confusion Matrix Test Data (Model 3)"
   ]
  },
  {
   "cell_type": "code",
   "execution_count": null,
   "metadata": {
    "id": "h9savC24SUMw",
    "outputId": "54c8cd8a-3353-444a-c4bb-68b73be9080b",
    "scrolled": true
   },
   "outputs": [],
   "source": [
    "from sklearn.metrics import confusion_matrix\n",
    "confusion_matrix = confusion_matrix(y_test,test_pred)\n",
    "print(confusion_matrix)"
   ]
  },
  {
   "cell_type": "code",
   "execution_count": null,
   "metadata": {
    "id": "kqiVnPvESUMw",
    "outputId": "c08aed4c-708d-424b-c2b3-86afb03fc217",
    "scrolled": true
   },
   "outputs": [],
   "source": [
    "Accuracy_test=((953+183)/(1409)*100)\n",
    "Accuracy_test"
   ]
  },
  {
   "cell_type": "code",
   "execution_count": null,
   "metadata": {
    "id": "N2fZr59hSUMw",
    "outputId": "21e88d26-4a9b-4ba0-c7cf-e4019ff72676"
   },
   "outputs": [],
   "source": [
    "print('Classification report for train data is : \\n',\n",
    "      classification_report(y_train, train_pred))\n",
    "print('Classification report for test data is : \\n',\n",
    "      classification_report(y_test, test_pred))"
   ]
  },
  {
   "cell_type": "markdown",
   "metadata": {
    "id": "F1QHTXsLSUMw"
   },
   "source": [
    "# Finished"
   ]
  }
 ],
 "metadata": {
  "colab": {
   "name": "Extreme Boosting -- Final Student.ipynb",
   "provenance": []
  },
  "kernelspec": {
   "display_name": "Python 3 (ipykernel)",
   "language": "python",
   "name": "python3"
  },
  "language_info": {
   "codemirror_mode": {
    "name": "ipython",
    "version": 3
   },
   "file_extension": ".py",
   "mimetype": "text/x-python",
   "name": "python",
   "nbconvert_exporter": "python",
   "pygments_lexer": "ipython3",
   "version": "3.9.7"
  }
 },
 "nbformat": 4,
 "nbformat_minor": 1
}
